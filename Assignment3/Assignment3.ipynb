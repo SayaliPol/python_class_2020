{
 "cells": [
  {
   "cell_type": "code",
   "execution_count": 5,
   "metadata": {},
   "outputs": [
    {
     "name": "stdout",
     "output_type": "stream",
     "text": [
      "Enter 1st number5\n",
      "Enter 2nd number0\n",
      "Error: ZeroDivisionError\n"
     ]
    }
   ],
   "source": [
    "def exceptFunc(a,b):\n",
    "    try:\n",
    "        print(a/b)\n",
    "    except ZeroDivisionError:\n",
    "        print('Error: ZeroDivisionError')\n",
    " \n",
    "a= int(input('Enter 1st number'))\n",
    "b= int(input('Enter 2nd number'))\n",
    "exceptFunc(a,b)"
   ]
  },
  {
   "cell_type": "code",
   "execution_count": 4,
   "metadata": {},
   "outputs": [
    {
     "name": "stdout",
     "output_type": "stream",
     "text": [
      "Americans play Baseball\n",
      "Americans play Cricket\n",
      "Americans watch Baseball\n",
      "Americans watch Cricket\n",
      "Indians play Baseball\n",
      "Indians play Cricket\n",
      "Indians watch Baseball\n",
      "Indians watch Cricket\n"
     ]
    }
   ],
   "source": [
    "subjects=[\"Americans\",\"Indians\"]\n",
    "verbs=[\"play\",\"watch\"]\n",
    "objects=[\"Baseball\",\"Cricket\"]\n",
    "\n",
    "for s in subjects:\n",
    "    for v in verbs:\n",
    "        for o in objects:\n",
    "            print(s,v,o)\n",
    "            "
   ]
  },
  {
   "cell_type": "code",
   "execution_count": 40,
   "metadata": {},
   "outputs": [
    {
     "name": "stdout",
     "output_type": "stream",
     "text": [
      "Enter a list:[2,3,4]\n",
      "Enter True or False:True\n",
      "[[ 1  2  4]\n",
      " [ 1  3  9]\n",
      " [ 1  4 16]]\n"
     ]
    }
   ],
   "source": [
    "import numpy as np\n",
    "\n",
    "def func(l,b):\n",
    "    new_l =[]\n",
    "    l2 =[]\n",
    "    n=len(l)\n",
    "    if b==True:\n",
    "        for i in l:\n",
    "            for j in range(n):\n",
    "                l2.append(pow(i,j))\n",
    "            new_l.append(l2)\n",
    "            l2=[]\n",
    "        \n",
    "        arr = np.array(new_l)\n",
    "        print(arr)\n",
    "    \n",
    "    elif b==False:\n",
    "        for i in l:\n",
    "            for j in range(n):\n",
    "                l2.append(pow(i,n-j-1))\n",
    "            new_l.append(l2)\n",
    "            l2=[]\n",
    "       \n",
    "        arr = np.array(new_l)\n",
    "        print(arr)\n",
    "    else:\n",
    "        print('Invalid Input !')\n",
    "    \n",
    "l = eval(input('Enter a list:'))\n",
    "b= bool(input('Enter True or False:'))\n",
    "func(l,b)"
   ]
  },
  {
   "cell_type": "code",
   "execution_count": null,
   "metadata": {},
   "outputs": [],
   "source": []
  }
 ],
 "metadata": {
  "kernelspec": {
   "display_name": "Python 3",
   "language": "python",
   "name": "python3"
  },
  "language_info": {
   "codemirror_mode": {
    "name": "ipython",
    "version": 3
   },
   "file_extension": ".py",
   "mimetype": "text/x-python",
   "name": "python",
   "nbconvert_exporter": "python",
   "pygments_lexer": "ipython3",
   "version": "3.7.3"
  }
 },
 "nbformat": 4,
 "nbformat_minor": 4
}
