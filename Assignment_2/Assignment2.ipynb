{
 "cells": [
  {
   "cell_type": "code",
   "execution_count": null,
   "metadata": {},
   "outputs": [],
   "source": [
    "lst=[1,2,3,4,5]\n",
    "print()\n",
    "print('Addition :+\\nSubtraction :-\\nMultiplication :*')\n",
    "print()\n",
    "op=input('Enter operation :')\n",
    "    \n",
    "def myreduce(func,l):\n",
    "    ans=l[0]\n",
    "    for i in range (1,len(l)):\n",
    "        ans=func(ans,l[i])\n",
    "        \n",
    "    return ans\n",
    "        \n",
    "if op=='+':\n",
    "    print('Addition :',myreduce(lambda x,y:x+y,lst))\n",
    "\n",
    "if op=='*':\n",
    "    print(myreduce('Multiplication :',lambda x,y:x*y,lst))\n",
    "\n",
    "if op=='-':\n",
    "    print(myreduce('Subtraction :',lambda x,y:x-y,lst))\n"
   ]
  },
  {
   "cell_type": "code",
   "execution_count": null,
   "metadata": {},
   "outputs": [],
   "source": [
    "lst= [1,2,4,6,5,9,8]\n",
    "\n",
    "def myfilter(even,lst):\n",
    "    return even(lst)\n",
    "    \n",
    "def even(l):\n",
    "    lst_new=[]\n",
    "    for i in l:\n",
    "        if i%2==0:\n",
    "            lst_new.append(i)\n",
    "    return lst_new\n",
    "\n",
    "print(myfilter(even,lst))"
   ]
  },
  {
   "cell_type": "code",
   "execution_count": null,
   "metadata": {},
   "outputs": [],
   "source": [
    "def longestWord(lst):\n",
    "    max=lst[0]\n",
    "    for i in range(0,len(lst)):\n",
    "        if len(max)<len(lst[i]):\n",
    "            max=lst[i]\n",
    "    print('The longest word in your list is: '+max)\n",
    "    \n",
    "lst= eval(input('Enter a list:'))\n",
    "longestWord(lst)"
   ]
  },
  {
   "cell_type": "code",
   "execution_count": 1,
   "metadata": {},
   "outputs": [
    {
     "name": "stdout",
     "output_type": "stream",
     "text": [
      "Enter a number:4\n",
      "['pqrst', 'uvwxyz', 'lmnop']\n"
     ]
    }
   ],
   "source": [
    "def filter_long_word(lst,n):\n",
    "    new_lst=[]\n",
    "    for i in lst:\n",
    "        if n<len(i):\n",
    "            new_lst.append(i)\n",
    "    print(new_lst)\n",
    "\n",
    "\n",
    "lst= ['abc', 'pqrst', 'uvwxyz', 'lmnop']\n",
    "n= int(input('Enter a number:'))\n",
    "\n",
    "filter_long_word(lst,n)"
   ]
  },
  {
   "cell_type": "code",
   "execution_count": 7,
   "metadata": {},
   "outputs": [
    {
     "name": "stdout",
     "output_type": "stream",
     "text": [
      "Enter your list: ['abc', 'pqrst', 'uvwxyz', 'lmnop']\n",
      "[3, 5, 6, 5]\n"
     ]
    }
   ],
   "source": [
    "def get_length(lst):\n",
    "    print(list(map(lambda x:len(x),lst)))\n",
    "\n",
    "lst= eval(input('Enter your list: '))\n",
    "get_length(lst)"
   ]
  },
  {
   "cell_type": "code",
   "execution_count": 9,
   "metadata": {},
   "outputs": [
    {
     "name": "stdout",
     "output_type": "stream",
     "text": [
      "['A', 'C', 'A', 'D', 'G', 'I', 'L', 'D']\n"
     ]
    }
   ],
   "source": [
    "s = 'ACADGILD'\n",
    "lst=[i for i in s]\n",
    "print(lst)"
   ]
  },
  {
   "cell_type": "code",
   "execution_count": 11,
   "metadata": {},
   "outputs": [
    {
     "name": "stdout",
     "output_type": "stream",
     "text": [
      "['x', 'xx', 'xxx', 'xxxx', 'y', 'yy', 'yyy', 'yyyy', 'z', 'zz', 'zzz', 'zzzz']\n"
     ]
    }
   ],
   "source": [
    "l= ['x','y','z']\n",
    "\n",
    "lst= [i*n for i in l for n in range(1,5)]\n",
    "print(lst)"
   ]
  },
  {
   "cell_type": "code",
   "execution_count": 15,
   "metadata": {},
   "outputs": [
    {
     "name": "stdout",
     "output_type": "stream",
     "text": [
      "['x', 'y', 'z', 'xx', 'yy', 'zz', 'xxx', 'yyy', 'zzz', 'xxxx', 'yyyy', 'zzzz']\n"
     ]
    }
   ],
   "source": [
    "l= ['x','y','z']\n",
    "\n",
    "lst= [i*n for n in range (1,5) for i in l ]\n",
    "print(lst)"
   ]
  },
  {
   "cell_type": "code",
   "execution_count": 22,
   "metadata": {},
   "outputs": [
    {
     "name": "stdout",
     "output_type": "stream",
     "text": [
      "[[2], [3], [4], [3], [4], [5], [4], [5], [6]]\n"
     ]
    }
   ],
   "source": [
    "l= [2,3,4]\n",
    "\n",
    "lst= [[i+j] for i in l for j in range(0,3)]\n",
    "print(lst)"
   ]
  },
  {
   "cell_type": "code",
   "execution_count": 25,
   "metadata": {},
   "outputs": [
    {
     "name": "stdout",
     "output_type": "stream",
     "text": [
      "[[2, 3, 4, 5], [3, 4, 5, 6], [4, 5, 6, 7], [5, 6, 7, 8]]\n"
     ]
    }
   ],
   "source": [
    "l= [2,3,4,5]\n",
    "\n",
    "lst= [[i+j for i in l] for j in range(4)]\n",
    "print(lst)"
   ]
  },
  {
   "cell_type": "code",
   "execution_count": 29,
   "metadata": {},
   "outputs": [
    {
     "name": "stdout",
     "output_type": "stream",
     "text": [
      "[(1, 1), (2, 1), (3, 1), (1, 2), (2, 2), (3, 2), (1, 3), (2, 3), (3, 3)]\n"
     ]
    }
   ],
   "source": [
    "lst= [(i,j) for j in range(1,4) for i in range (1,4)]\n",
    "print(lst)"
   ]
  },
  {
   "cell_type": "code",
   "execution_count": 34,
   "metadata": {},
   "outputs": [
    {
     "name": "stdout",
     "output_type": "stream",
     "text": [
      "Enter a letter:U\n",
      "Letter is a vowel\n"
     ]
    }
   ],
   "source": [
    "lst= ['a','e','i','o','u']\n",
    "\n",
    "char= input('Enter a letter:').lower()\n",
    "if char in lst:\n",
    "    print('Letter is a vowel')\n",
    "else:\n",
    "    print('Letter is a consonant')"
   ]
  },
  {
   "cell_type": "code",
   "execution_count": null,
   "metadata": {},
   "outputs": [
    {
     "name": "stdout",
     "output_type": "stream",
     "text": [
      "Enter 3 sides of triangle:\n"
     ]
    }
   ],
   "source": [
    "class par_class:\n",
    "    def triSides(self):\n",
    "        print('Enter 3 sides of triangle:')\n",
    "        self.a=int(input())\n",
    "        self.b=int(input())\n",
    "        self.c=int(input())\n",
    "        \n",
    "\n",
    "class child_class(par_class):\n",
    "    \n",
    "    def tri_area(self):\n",
    "        super().triSides()\n",
    "        s= (self.a+self.b+self.c)/2\n",
    "        area= (s*(s-self.a)*(s-self.b)*(s-self.c)) ** 0.5\n",
    "        print('Area of triangle : ',area)\n",
    "        \n",
    "c = child_class()\n",
    "c.tri_area()"
   ]
  },
  {
   "cell_type": "code",
   "execution_count": null,
   "metadata": {},
   "outputs": [],
   "source": []
  },
  {
   "cell_type": "code",
   "execution_count": null,
   "metadata": {},
   "outputs": [],
   "source": []
  },
  {
   "cell_type": "code",
   "execution_count": null,
   "metadata": {},
   "outputs": [],
   "source": []
  }
 ],
 "metadata": {
  "kernelspec": {
   "display_name": "Python 3",
   "language": "python",
   "name": "python3"
  },
  "language_info": {
   "codemirror_mode": {
    "name": "ipython",
    "version": 3
   },
   "file_extension": ".py",
   "mimetype": "text/x-python",
   "name": "python",
   "nbconvert_exporter": "python",
   "pygments_lexer": "ipython3",
   "version": "3.7.3"
  }
 },
 "nbformat": 4,
 "nbformat_minor": 4
}
